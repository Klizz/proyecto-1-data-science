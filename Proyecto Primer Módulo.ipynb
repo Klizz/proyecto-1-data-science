{
 "cells": [
  {
   "cell_type": "markdown",
   "metadata": {},
   "source": [
    "# Proyecto del primer módulo.\n",
    "\n",
    "Sean bienvenidos al nuevo startup del momento llamado DataSense Inc.; ustedes han sido contratados como analistas de datos en el área de tecnología. En esta área ya hay 4 analistas encargados de otras áreas de la empresa por lo cual a ti te fue asignada la labor de analizar los datos del departamento de ventas; al llegar en tu primer día caes en cuenta que los empleados están usando diversas herramientas para realizar el análisis. Algunos utilizan Excel, otros utilizan Google Sheets pero ambas opciones son ya sea licencias personales o licencias ilegales; por lo tanto, su jefe les ha dicho que busquen una herramienta que pueda trabajar, editar y manipular estos archivos ya que la herramienta será implementada en toda la empresa. Mientras los otros 4 analistas debaten entre utilizar Excel o Sheets tu recuerdas haber visto que Python puede ser utilizado para analizar estos tipos de archivos; por lo tanto instalas Anaconda y comienzas a trabajar con los archivos fundamentales.\n",
    "\n",
    "## Parte 1\n",
    "En esta parte solo puedes utilizar Python vanilla (y el paquete csv para abrir el archivo Business Data.csv); aquí vas a demostrar tus conocimientos de Python básico."
   ]
  },
  {
   "cell_type": "code",
   "execution_count": 115,
   "metadata": {},
   "outputs": [],
   "source": [
    "import csv"
   ]
  },
  {
   "cell_type": "markdown",
   "metadata": {},
   "source": [
    "1. Carga el archivo csv a Python usando código vanilla (no importes más paquetes)."
   ]
  },
  {
   "cell_type": "code",
   "execution_count": 116,
   "metadata": {},
   "outputs": [],
   "source": [
    "file = open('Business Data.csv')"
   ]
  },
  {
   "cell_type": "markdown",
   "metadata": {},
   "source": [
    "2. Ahora explora tu objeto. Como es una lista de listas podemos acceder a 2 índices distintos.\n",
    "- ¿El primer índice nos da una columna del csv, o un reglón?\n",
    "- ¿Cuales son los nombres de las columnas del archivo csv?\n",
    "- Corre el comando len sobre tu lista de listas. ¿Que significa el resultado?\n",
    "- ¿Cuál es la longitud de las listas dentro de este objeto?"
   ]
  },
  {
   "cell_type": "markdown",
   "metadata": {},
   "source": [
    "# 2. Ahora explora tu objeto."
   ]
  },
  {
   "cell_type": "code",
   "execution_count": 117,
   "metadata": {},
   "outputs": [
    {
     "name": "stdout",
     "output_type": "stream",
     "text": [
      "Nombre,Edad,Sexo,Area,Posición,Sueldo\n",
      "Blanca Teresa Ortiz,45,F,Tecnología,Developer,25000\n",
      "Verónica Morales,44,F,Tecnología,Administrador de DB,24000\n",
      "Roberto Flores,48,M,Ventas,Marketing,16000\n",
      "Patricia Pérez,42,F,Ventas,Gerente de Ventas,40000\n",
      "Francisco Eduardo Torres,43,M,Tecnología,Gerente de Tecnología,41000\n",
      "María Valdez,42,F,Ventas,Contaduría,23000\n",
      "Ignacio Heriberto Rodríguez,42,M,Ventas,Vendedor,9000\n",
      "Edgar Jiménez,38,M,Ventas,Gerente de Contaduría,35000\n",
      "Liliana Díaz,38,F,Tecnología,Developer,24000\n",
      "Rebeca Vázquez,38,F,Tecnología,Coordinación de DB,28000\n",
      "Victor Kevin Flores,37,M,Tecnología,Coordinador,25000\n",
      "Georgina Zárate,35,F,Ventas,Marketing,16000\n",
      "Heriberto Mendoza,36,M,Tecnología,Administrador de DB,23000\n",
      "Miguel Gómez,35,M,Ventas,Vendedor,8750\n",
      "Bruno Álvarez,36,M,Tecnología,Analista,16000\n",
      "Rodrigo Felipe Montes,35,M,Tecnología,Developer,23000\n",
      "Adriana Martínez,34,F,Ventas,Vendedor,8750\n",
      "Luis Enrique Lazcón,35,M,Tecnología,Analista,15000\n",
      "Eduardo Treviño,33,M,Ventas,Coordinador,16000\n",
      "Ramiro Treviño,28,M,Tecnología,Developer,22000\n",
      "Lucía María González,26,F,Tecnología,Analista,13750\n",
      "María Ester Cuevas,33,F,Ventas,Coordinador,17000\n",
      "María Guadalupe Villarreal,29,F,Ventas,Vendedor,8500\n",
      "Patricia Reyes,26,F,Tecnología,Analista,13750\n",
      "Tadeo Gutierrez,28,M,Ventas,Vendedor,8300\n",
      "Nadia Rodriguez,25,F,Tecnología,Analista,13500\n",
      "Jorge Martínez ,27,M,Ventas,Marketing,14000\n",
      "Roberta Juárez,27,F,Ventas,Contaduría,18000\n",
      "Kevin Omar Carranza,24,M,Tecnología,Administrador de DB,20000\n",
      "Francisco Castañeda,25,M,Ventas,Vendedor,8000\n",
      "Juan Manuel Sandoval,23,M,Tecnología,Analista,13000\n",
      "Gilberto Manuel Potes,21,M,Tecnología,Developer,20000\n",
      "Felipe Torres,21,M,Ventas,Vendedor,7500\n",
      "Brenda Torres,20,F,Tecnología,Developer,19800\n",
      "Julissa Vázquez,19,F,Ventas,Contaduría,14000\n",
      "\n"
     ]
    }
   ],
   "source": [
    "list = file.read()\n",
    "print(list)"
   ]
  },
  {
   "cell_type": "code",
   "execution_count": 118,
   "metadata": {},
   "outputs": [
    {
     "name": "stdout",
     "output_type": "stream",
     "text": [
      "['Nombre', 'Edad', 'Sexo', 'Area', 'Posición', 'Sueldo']\n",
      "['Blanca Teresa Ortiz', '45', 'F', 'Tecnología', 'Developer', '25000']\n",
      "['Verónica Morales', '44', 'F', 'Tecnología', 'Administrador de DB', '24000']\n",
      "['Roberto Flores', '48', 'M', 'Ventas', 'Marketing', '16000']\n",
      "['Patricia Pérez', '42', 'F', 'Ventas', 'Gerente de Ventas', '40000']\n",
      "['Francisco Eduardo Torres', '43', 'M', 'Tecnología', 'Gerente de Tecnología', '41000']\n",
      "['María Valdez', '42', 'F', 'Ventas', 'Contaduría', '23000']\n",
      "['Ignacio Heriberto Rodríguez', '42', 'M', 'Ventas', 'Vendedor', '9000']\n",
      "['Edgar Jiménez', '38', 'M', 'Ventas', 'Gerente de Contaduría', '35000']\n",
      "['Liliana Díaz', '38', 'F', 'Tecnología', 'Developer', '24000']\n",
      "['Rebeca Vázquez', '38', 'F', 'Tecnología', 'Coordinación de DB', '28000']\n",
      "['Victor Kevin Flores', '37', 'M', 'Tecnología', 'Coordinador', '25000']\n",
      "['Georgina Zárate', '35', 'F', 'Ventas', 'Marketing', '16000']\n",
      "['Heriberto Mendoza', '36', 'M', 'Tecnología', 'Administrador de DB', '23000']\n",
      "['Miguel Gómez', '35', 'M', 'Ventas', 'Vendedor', '8750']\n",
      "['Bruno Álvarez', '36', 'M', 'Tecnología', 'Analista', '16000']\n",
      "['Rodrigo Felipe Montes', '35', 'M', 'Tecnología', 'Developer', '23000']\n",
      "['Adriana Martínez', '34', 'F', 'Ventas', 'Vendedor', '8750']\n",
      "['Luis Enrique Lazcón', '35', 'M', 'Tecnología', 'Analista', '15000']\n",
      "['Eduardo Treviño', '33', 'M', 'Ventas', 'Coordinador', '16000']\n",
      "['Ramiro Treviño', '28', 'M', 'Tecnología', 'Developer', '22000']\n",
      "['Lucía María González', '26', 'F', 'Tecnología', 'Analista', '13750']\n",
      "['María Ester Cuevas', '33', 'F', 'Ventas', 'Coordinador', '17000']\n",
      "['María Guadalupe Villarreal', '29', 'F', 'Ventas', 'Vendedor', '8500']\n",
      "['Patricia Reyes', '26', 'F', 'Tecnología', 'Analista', '13750']\n",
      "['Tadeo Gutierrez', '28', 'M', 'Ventas', 'Vendedor', '8300']\n",
      "['Nadia Rodriguez', '25', 'F', 'Tecnología', 'Analista', '13500']\n",
      "['Jorge Martínez ', '27', 'M', 'Ventas', 'Marketing', '14000']\n",
      "['Roberta Juárez', '27', 'F', 'Ventas', 'Contaduría', '18000']\n",
      "['Kevin Omar Carranza', '24', 'M', 'Tecnología', 'Administrador de DB', '20000']\n",
      "['Francisco Castañeda', '25', 'M', 'Ventas', 'Vendedor', '8000']\n",
      "['Juan Manuel Sandoval', '23', 'M', 'Tecnología', 'Analista', '13000']\n",
      "['Gilberto Manuel Potes', '21', 'M', 'Tecnología', 'Developer', '20000']\n",
      "['Felipe Torres', '21', 'M', 'Ventas', 'Vendedor', '7500']\n",
      "['Brenda Torres', '20', 'F', 'Tecnología', 'Developer', '19800']\n",
      "['Julissa Vázquez', '19', 'F', 'Ventas', 'Contaduría', '14000']\n"
     ]
    }
   ],
   "source": [
    "mylist =[]\n",
    "newlist =[]\n",
    "with open('Business Data.csv') as f:\n",
    "    for line in f:\n",
    "        mylist = line.strip().split(',')\n",
    "        newlist.append(mylist)\n",
    "        print(mylist)"
   ]
  },
  {
   "cell_type": "markdown",
   "metadata": {},
   "source": [
    "# 3. ¿El primer índice nos da una columna del csv, o un reglón?"
   ]
  },
  {
   "cell_type": "code",
   "execution_count": 119,
   "metadata": {},
   "outputs": [
    {
     "name": "stdout",
     "output_type": "stream",
     "text": [
      "[['Nombre', 'Edad', 'Sexo', 'Area', 'Posición', 'Sueldo']]\n"
     ]
    }
   ],
   "source": [
    "primero = [ newlist[0]] \n",
    "print(str(primero))"
   ]
  },
  {
   "cell_type": "markdown",
   "metadata": {},
   "source": [
    "# 4. ¿Cuales son los nombres de las columnas del archivo csv?"
   ]
  },
  {
   "cell_type": "code",
   "execution_count": 120,
   "metadata": {},
   "outputs": [
    {
     "name": "stdout",
     "output_type": "stream",
     "text": [
      "[['Nombre', 'Edad', 'Sexo', 'Area', 'Posición', 'Sueldo']]\n"
     ]
    }
   ],
   "source": [
    "primero = [ newlist[0]] \n",
    "print(str(primero))"
   ]
  },
  {
   "cell_type": "markdown",
   "metadata": {},
   "source": [
    "# 5. Corre el comando len sobre tu lista de listas. ¿Que significa el resultado?"
   ]
  },
  {
   "cell_type": "code",
   "execution_count": 121,
   "metadata": {},
   "outputs": [
    {
     "data": {
      "text/plain": [
       "36"
      ]
     },
     "execution_count": 121,
     "metadata": {},
     "output_type": "execute_result"
    }
   ],
   "source": [
    "len(newlist)"
   ]
  },
  {
   "cell_type": "markdown",
   "metadata": {},
   "source": [
    "# 6. ¿Cuál es la longitud de las listas dentro de este objeto?"
   ]
  },
  {
   "cell_type": "code",
   "execution_count": 144,
   "metadata": {},
   "outputs": [
    {
     "name": "stdout",
     "output_type": "stream",
     "text": [
      "6\n"
     ]
    }
   ],
   "source": [
    "print(len(mylist))"
   ]
  },
  {
   "cell_type": "markdown",
   "metadata": {},
   "source": [
    "# 3. ¿Cuál es el tipo de datos que hay en cada columna? ¿Hay alguna incongruencia?"
   ]
  },
  {
   "cell_type": "markdown",
   "metadata": {},
   "source": [
    "Si, se imprimen como tipo 'string' a pesar de que muchos son numeros, esto debido a que estan definidos con comillas y no como numeros"
   ]
  },
  {
   "cell_type": "code",
   "execution_count": 169,
   "metadata": {},
   "outputs": [
    {
     "name": "stdout",
     "output_type": "stream",
     "text": [
      "<class 'str'>\n",
      "<class 'str'>\n",
      "<class 'str'>\n",
      "<class 'str'>\n",
      "<class 'str'>\n",
      "<class 'str'>\n"
     ]
    }
   ],
   "source": [
    "for item in newlist[1]:\n",
    "    print(type(item))"
   ]
  },
  {
   "cell_type": "markdown",
   "metadata": {},
   "source": [
    "# - Inspecciona la primera observación e imprime el tipo de dato en cada columna."
   ]
  },
  {
   "cell_type": "code",
   "execution_count": null,
   "metadata": {},
   "outputs": [],
   "source": []
  },
  {
   "cell_type": "markdown",
   "metadata": {},
   "source": [
    "4. En nuestros datos hay algunas palabras que llevan acento; sin embargo, cuando estamos tratando con el usuario hay ocasiones en las que puede cometer errores con estos acentos o puede ser que escriba la palabra sin mayúscula.\n",
    "\n",
    "- ¿Como se llama el proceso de transformar palabras para agruparlas?\n",
    "- Crea una función que reciba como argumento una palabra con mayúscula y acentos y que regrese la palabra con puras minúsculas y sin acentos. Prueba la función con la palabra Esdrújula."
   ]
  },
  {
   "cell_type": "code",
   "execution_count": 90,
   "metadata": {},
   "outputs": [],
   "source": []
  },
  {
   "cell_type": "markdown",
   "metadata": {},
   "source": [
    "5. Realiza una transformación a tu lista para que ahora el primer índice nos de una columna en lugar de un renglón."
   ]
  },
  {
   "cell_type": "code",
   "execution_count": null,
   "metadata": {},
   "outputs": [],
   "source": []
  },
  {
   "cell_type": "markdown",
   "metadata": {},
   "source": [
    "6. Una vez hecha la transformación, extrae la columna de nombres de tu data. ¿Ves algo extraño en los nombres?"
   ]
  },
  {
   "cell_type": "code",
   "execution_count": 94,
   "metadata": {},
   "outputs": [],
   "source": []
  },
  {
   "cell_type": "markdown",
   "metadata": {},
   "source": [
    "## Parte 2\n",
    "Mientras sigues realizando pruebas en Python caes en cuenta de que esto es mucho más difícil de lo que recordabas; los objetos de listas no son los mejores para manipular estos datos y parece que el debate regresa a Excel y Sheets pero una busqueda en google te hace recordar que existen librerías gratuitas en Python que facilitan el análisis de datos. Decides instalar Numpy y Pandas y regresar a trabajar para ahora si poder realizar un análisis de tus datos.\n",
    "\n",
    "### A partir de este punto ya podemos utilizar Numpy y Pandas, pero seguimos trabajando con el archivo Business Data.csv de forma exclusiva.\n"
   ]
  },
  {
   "cell_type": "code",
   "execution_count": 2,
   "metadata": {},
   "outputs": [],
   "source": [
    "import numpy as np\n",
    "import pandas as pd"
   ]
  },
  {
   "cell_type": "markdown",
   "metadata": {},
   "source": [
    "7. Carga la base de datos anterior de un formato a un dataframe. Ya no tienes que utilizar la lista de listas."
   ]
  },
  {
   "cell_type": "code",
   "execution_count": null,
   "metadata": {},
   "outputs": [],
   "source": []
  },
  {
   "cell_type": "markdown",
   "metadata": {},
   "source": [
    "8. ¿Cuantos hombres hay en la empresa, cuantas mujeres?"
   ]
  },
  {
   "cell_type": "code",
   "execution_count": null,
   "metadata": {},
   "outputs": [],
   "source": []
  },
  {
   "cell_type": "markdown",
   "metadata": {},
   "source": [
    "9. ¿Cuantas áreas distintas hay en la empresa; cuantos empleados hay por área?"
   ]
  },
  {
   "cell_type": "code",
   "execution_count": null,
   "metadata": {},
   "outputs": [],
   "source": []
  },
  {
   "cell_type": "markdown",
   "metadata": {},
   "source": [
    "10. ¿Como está la distribución de género en estas áreas, cuantos hombres y cuantas mujeres en cada área?"
   ]
  },
  {
   "cell_type": "code",
   "execution_count": null,
   "metadata": {},
   "outputs": [],
   "source": []
  },
  {
   "cell_type": "markdown",
   "metadata": {},
   "source": [
    "11. ¿Cuantas posiciones distintas hay dentro del área de Tecnología, cuantas hay en el área de Ventas?"
   ]
  },
  {
   "cell_type": "code",
   "execution_count": null,
   "metadata": {},
   "outputs": [],
   "source": []
  },
  {
   "cell_type": "markdown",
   "metadata": {},
   "source": [
    "12. Hay alguna posición que tengan en común ventas y tecnología (que tengan exactamente el mismo nombre). ¿En caso de que si haya, cual?"
   ]
  },
  {
   "cell_type": "code",
   "execution_count": null,
   "metadata": {},
   "outputs": [],
   "source": []
  },
  {
   "cell_type": "markdown",
   "metadata": {},
   "source": [
    "13. ¿Cuál es el primer nombre más común en la empresa?"
   ]
  },
  {
   "cell_type": "code",
   "execution_count": null,
   "metadata": {},
   "outputs": [],
   "source": []
  },
  {
   "cell_type": "markdown",
   "metadata": {},
   "source": [
    "14. Revisa nuevamente el tipo de dato que hay en cada columna; si no corresponde, entonces transformalo al que sí corresponde."
   ]
  },
  {
   "cell_type": "code",
   "execution_count": null,
   "metadata": {},
   "outputs": [],
   "source": []
  },
  {
   "cell_type": "markdown",
   "metadata": {},
   "source": [
    "15. ¿Cual es la edad promedio en la empresa, cual es el sueldo promedio?"
   ]
  },
  {
   "cell_type": "code",
   "execution_count": null,
   "metadata": {},
   "outputs": [],
   "source": []
  },
  {
   "cell_type": "markdown",
   "metadata": {},
   "source": [
    "16. Ahora calcula el sueldo promedio por sexo.\n",
    "- ¿Cuál sexo tiene mayor sueldo y cual es la diferencia entre los sueldos?"
   ]
  },
  {
   "cell_type": "code",
   "execution_count": null,
   "metadata": {},
   "outputs": [],
   "source": []
  },
  {
   "cell_type": "markdown",
   "metadata": {},
   "source": [
    "17. Calcula el sueldo promedio por área y el sueldo promedio por posición."
   ]
  },
  {
   "cell_type": "code",
   "execution_count": null,
   "metadata": {},
   "outputs": [],
   "source": []
  },
  {
   "cell_type": "markdown",
   "metadata": {},
   "source": [
    "18. ¿En base a la información anterior, que posición dirías que tiene el menor sueldo promedio de la empresa?"
   ]
  },
  {
   "cell_type": "code",
   "execution_count": null,
   "metadata": {},
   "outputs": [],
   "source": []
  },
  {
   "cell_type": "markdown",
   "metadata": {},
   "source": [
    "19. El sueldo mostrado en la base de datos es el sueldo bruto (sin quitar impuestos) mensual; calcula 3 columnas adicionales en donde muestres\n",
    "   - El sueldo bruto anual (suma 1/2 mes de sueldo como aguinaldo a los empleados)\n",
    "   - Considerando las siguientes tasas de impuestos, calcula el sueldo neto anual (sueldo descontando impuestos, te recomiendo crear una función).\n",
    "   - Una vez hecho lo anterior, crea una nueva columna de sueldo neto mensual.\n",
    "   \n",
    "   \n",
    "   s < 100,000  10%\n",
    "   \n",
    "   100,000 < s <= 125,000 13%\n",
    "   \n",
    "   125,000 < s <= 150,000 15%\n",
    "   \n",
    "   150,000 < s <= 175,000 16%\n",
    "   \n",
    "   175,000 < s <= 200,000 17%\n",
    "   \n",
    "   200,000 < s <= 250,000 19%\n",
    "   \n",
    "   300,000 < s <= 350,000 21%\n",
    "   \n",
    "   350,000 < s <= 400,000 23%\n",
    "   \n",
    "   s > 400,000 25%"
   ]
  },
  {
   "cell_type": "code",
   "execution_count": null,
   "metadata": {},
   "outputs": [],
   "source": []
  },
  {
   "cell_type": "markdown",
   "metadata": {},
   "source": [
    "20. Ahora que tenemos los salarios netos (lo que el empleado termina recibiendo de forma mensual). ¿Como cambió el sueldo promedio por área, subió o bajó?"
   ]
  },
  {
   "cell_type": "code",
   "execution_count": null,
   "metadata": {},
   "outputs": [],
   "source": []
  },
  {
   "cell_type": "markdown",
   "metadata": {},
   "source": [
    "## Parte 3\n",
    "Después de realizar tu análisis te comienzas a sentir con más tranquilidad; has podido calcular varios estadísticos relevantes para los empleados pero quieres poner tus habilidades a prueba. Vas con la gente encargada de la base de datos y les pides los archivos csv del departamento de ventas y decides realizar tu primer análisis exploratorio de datos de la empresa.\n",
    "\n",
    "## A partir de este punto va a ser necesario usar los archivos csv restantes.\n",
    "\n",
    "Los datos de transacciones representan todas las compras realizadas por los clientes en el último mes; en este caso tenemos los archivos Customer, Invoice, Product, Purchases y SellersID para que ustedes puedan tener información específica acerca de las compras."
   ]
  },
  {
   "cell_type": "markdown",
   "metadata": {},
   "source": [
    "21. ¿Cuantos clientes tiene la empresa en total; cuantos clientes tiene asignado cada vendedor?"
   ]
  },
  {
   "cell_type": "code",
   "execution_count": null,
   "metadata": {},
   "outputs": [],
   "source": []
  },
  {
   "cell_type": "markdown",
   "metadata": {},
   "source": [
    "22. ¿Cuál es el número total de transacciones? Muestra cuantas compras ha realizado cada cliente."
   ]
  },
  {
   "cell_type": "code",
   "execution_count": null,
   "metadata": {},
   "outputs": [],
   "source": []
  },
  {
   "cell_type": "markdown",
   "metadata": {},
   "source": [
    "23. ¿Cuanto dinero ha gastado cada cliente en total?"
   ]
  },
  {
   "cell_type": "code",
   "execution_count": null,
   "metadata": {},
   "outputs": [],
   "source": []
  },
  {
   "cell_type": "markdown",
   "metadata": {},
   "source": [
    "24. ¿Cuantas veces se ha vendido cada tipo de producto? "
   ]
  },
  {
   "cell_type": "code",
   "execution_count": null,
   "metadata": {},
   "outputs": [],
   "source": []
  },
  {
   "cell_type": "markdown",
   "metadata": {},
   "source": [
    "25. ¿Cuanto dinero ha generado cada vendedor? Ordena a los vendedores en orden de ganancias generadas."
   ]
  },
  {
   "cell_type": "code",
   "execution_count": null,
   "metadata": {},
   "outputs": [],
   "source": []
  },
  {
   "cell_type": "markdown",
   "metadata": {},
   "source": [
    "26. ¿Quien fue el mejor vendor, quien fue el peor?"
   ]
  },
  {
   "cell_type": "code",
   "execution_count": null,
   "metadata": {},
   "outputs": [],
   "source": []
  },
  {
   "cell_type": "markdown",
   "metadata": {},
   "source": [
    "27. El archivo de ventas representan las ventas realizadas en el mes; considerando las ganancias y asumiendo que los únicos gastos son los de producción y el pago de sueldos.\n",
    "- ¿De cuanto fue la ganancia o perdida mensual de la empresa?"
   ]
  },
  {
   "cell_type": "code",
   "execution_count": null,
   "metadata": {},
   "outputs": [],
   "source": []
  },
  {
   "cell_type": "markdown",
   "metadata": {},
   "source": [
    "28. ¿Asumamos que corremos al vendedor de menor desempeño; cuanto cambia la ganancia o la perdida mensual?"
   ]
  },
  {
   "cell_type": "code",
   "execution_count": null,
   "metadata": {},
   "outputs": [],
   "source": []
  },
  {
   "cell_type": "markdown",
   "metadata": {},
   "source": [
    "29. ¿Este resultado les llamó la atención? Expliquen por qué y sugieran un cambio que realizarían si es que aplica."
   ]
  },
  {
   "cell_type": "code",
   "execution_count": null,
   "metadata": {},
   "outputs": [],
   "source": []
  },
  {
   "cell_type": "markdown",
   "metadata": {},
   "source": [
    "# Parte 4\n",
    "Después de cruzar tantas tablas y combinarlas una con otra vas con tu jefe y le presentas estos resultados; al inicio toma tu palabra con mucho escepticismo ya que no está muy familiarizado con Python pero al ver los resultados que presentas y al saber que la herramienta es gratuita menciona que está muy abierto a la posibilidad de implementar Python como la herramienta central del departamento de analistas. Te sientes satisfecho con tu labor aunque piensas que a lo mejor después le tienes que comentar que aunque Python es gratuito y poderoso alguna otra herramienta estadística o de BI nunca le ha hecho daño a nadie. Regresas a tu lugar de trabajo y antes de que te des cuenta te pones a pensar acerca del funcionamiento de tu base de datos; tomas una hoja de papel y te pones a escribir.\n",
    "\n",
    "### Sección Teórica\n",
    "\n",
    "La siguiente sección son una colección de preguntas teóricas; es decir, no tienes que programar para ello pero es necesario tener conocimiento de fondo. Toda la sección involucra temáticas de la semana de webscrapping y modelo de datos con un mayor énfasis en la parte de modelo de datos."
   ]
  },
  {
   "cell_type": "markdown",
   "metadata": {},
   "source": [
    "30. Analizando los datos que tenemos; plantea cuales son las entidades existentes."
   ]
  },
  {
   "cell_type": "code",
   "execution_count": null,
   "metadata": {},
   "outputs": [],
   "source": []
  },
  {
   "cell_type": "markdown",
   "metadata": {},
   "source": [
    "31. Por ahora solo nos vamos a enfocar en vendedores; en las entidades definidas escribe las propiedades de cada entidad."
   ]
  },
  {
   "cell_type": "code",
   "execution_count": null,
   "metadata": {},
   "outputs": [],
   "source": []
  },
  {
   "cell_type": "markdown",
   "metadata": {},
   "source": [
    "32. Para cada entidad con sus propiedades escritas; marca (si aplica) las llaves primarias y las llaves foraneas."
   ]
  },
  {
   "cell_type": "code",
   "execution_count": null,
   "metadata": {},
   "outputs": [],
   "source": []
  },
  {
   "cell_type": "markdown",
   "metadata": {},
   "source": [
    "33. Ahora recuerda las relaciones; identifica las relaciones one to one, one to many y many to many en esta base de datos."
   ]
  },
  {
   "cell_type": "code",
   "execution_count": null,
   "metadata": {},
   "outputs": [],
   "source": []
  },
  {
   "cell_type": "markdown",
   "metadata": {},
   "source": [
    "34. Con las propiedades derivadas; escribe el tipo de datos correspondiente a cada propiedad."
   ]
  },
  {
   "cell_type": "code",
   "execution_count": null,
   "metadata": {},
   "outputs": [],
   "source": []
  },
  {
   "cell_type": "markdown",
   "metadata": {},
   "source": [
    "35. Con todo esto en mente; menciona alguna propiedad importante que puedes agregar a esta base de datos para sacarle más jugo a la data y menciona la entidad a la que pertenece."
   ]
  },
  {
   "cell_type": "code",
   "execution_count": null,
   "metadata": {},
   "outputs": [],
   "source": []
  },
  {
   "cell_type": "markdown",
   "metadata": {},
   "source": [
    "36. Con esa propiedad menciona al menos una métrica relevante que puedes calcular y como esta puede terminar ayudando al negocio."
   ]
  },
  {
   "cell_type": "code",
   "execution_count": null,
   "metadata": {},
   "outputs": [],
   "source": []
  }
 ],
 "metadata": {
  "kernelspec": {
   "display_name": "Python 3",
   "language": "python",
   "name": "python3"
  },
  "language_info": {
   "codemirror_mode": {
    "name": "ipython",
    "version": 3
   },
   "file_extension": ".py",
   "mimetype": "text/x-python",
   "name": "python",
   "nbconvert_exporter": "python",
   "pygments_lexer": "ipython3",
   "version": "3.7.6"
  }
 },
 "nbformat": 4,
 "nbformat_minor": 4
}
